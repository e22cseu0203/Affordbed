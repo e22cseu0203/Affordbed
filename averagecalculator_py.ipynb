{
  "nbformat": 4,
  "nbformat_minor": 0,
  "metadata": {
    "colab": {
      "provenance": []
    },
    "kernelspec": {
      "name": "python3",
      "display_name": "Python 3"
    },
    "language_info": {
      "name": "python"
    }
  },
  "cells": [
    {
      "cell_type": "code",
      "execution_count": 1,
      "metadata": {
        "colab": {
          "base_uri": "https://localhost:8080/",
          "height": 0
        },
        "id": "KLA7fidMQBQm",
        "outputId": "67b9b3e5-502f-4223-a3ac-595a2be945bd"
      },
      "outputs": [
        {
          "output_type": "stream",
          "name": "stdout",
          "text": [
            "Collecting fastapi\n",
            "  Downloading fastapi-0.115.12-py3-none-any.whl.metadata (27 kB)\n",
            "Collecting uvicorn\n",
            "  Downloading uvicorn-0.34.0-py3-none-any.whl.metadata (6.5 kB)\n",
            "Requirement already satisfied: httpx in /usr/local/lib/python3.11/dist-packages (0.28.1)\n",
            "Collecting starlette<0.47.0,>=0.40.0 (from fastapi)\n",
            "  Downloading starlette-0.46.1-py3-none-any.whl.metadata (6.2 kB)\n",
            "Requirement already satisfied: pydantic!=1.8,!=1.8.1,!=2.0.0,!=2.0.1,!=2.1.0,<3.0.0,>=1.7.4 in /usr/local/lib/python3.11/dist-packages (from fastapi) (2.11.1)\n",
            "Requirement already satisfied: typing-extensions>=4.8.0 in /usr/local/lib/python3.11/dist-packages (from fastapi) (4.13.0)\n",
            "Requirement already satisfied: click>=7.0 in /usr/local/lib/python3.11/dist-packages (from uvicorn) (8.1.8)\n",
            "Requirement already satisfied: h11>=0.8 in /usr/local/lib/python3.11/dist-packages (from uvicorn) (0.14.0)\n",
            "Requirement already satisfied: anyio in /usr/local/lib/python3.11/dist-packages (from httpx) (4.9.0)\n",
            "Requirement already satisfied: certifi in /usr/local/lib/python3.11/dist-packages (from httpx) (2025.1.31)\n",
            "Requirement already satisfied: httpcore==1.* in /usr/local/lib/python3.11/dist-packages (from httpx) (1.0.7)\n",
            "Requirement already satisfied: idna in /usr/local/lib/python3.11/dist-packages (from httpx) (3.10)\n",
            "Requirement already satisfied: annotated-types>=0.6.0 in /usr/local/lib/python3.11/dist-packages (from pydantic!=1.8,!=1.8.1,!=2.0.0,!=2.0.1,!=2.1.0,<3.0.0,>=1.7.4->fastapi) (0.7.0)\n",
            "Requirement already satisfied: pydantic-core==2.33.0 in /usr/local/lib/python3.11/dist-packages (from pydantic!=1.8,!=1.8.1,!=2.0.0,!=2.0.1,!=2.1.0,<3.0.0,>=1.7.4->fastapi) (2.33.0)\n",
            "Requirement already satisfied: typing-inspection>=0.4.0 in /usr/local/lib/python3.11/dist-packages (from pydantic!=1.8,!=1.8.1,!=2.0.0,!=2.0.1,!=2.1.0,<3.0.0,>=1.7.4->fastapi) (0.4.0)\n",
            "Requirement already satisfied: sniffio>=1.1 in /usr/local/lib/python3.11/dist-packages (from anyio->httpx) (1.3.1)\n",
            "Downloading fastapi-0.115.12-py3-none-any.whl (95 kB)\n",
            "\u001b[2K   \u001b[90m━━━━━━━━━━━━━━━━━━━━━━━━━━━━━━━━━━━━━━━━\u001b[0m \u001b[32m95.2/95.2 kB\u001b[0m \u001b[31m3.0 MB/s\u001b[0m eta \u001b[36m0:00:00\u001b[0m\n",
            "\u001b[?25hDownloading uvicorn-0.34.0-py3-none-any.whl (62 kB)\n",
            "\u001b[2K   \u001b[90m━━━━━━━━━━━━━━━━━━━━━━━━━━━━━━━━━━━━━━━━\u001b[0m \u001b[32m62.3/62.3 kB\u001b[0m \u001b[31m4.9 MB/s\u001b[0m eta \u001b[36m0:00:00\u001b[0m\n",
            "\u001b[?25hDownloading starlette-0.46.1-py3-none-any.whl (71 kB)\n",
            "\u001b[2K   \u001b[90m━━━━━━━━━━━━━━━━━━━━━━━━━━━━━━━━━━━━━━━━\u001b[0m \u001b[32m72.0/72.0 kB\u001b[0m \u001b[31m4.9 MB/s\u001b[0m eta \u001b[36m0:00:00\u001b[0m\n",
            "\u001b[?25hInstalling collected packages: uvicorn, starlette, fastapi\n",
            "Successfully installed fastapi-0.115.12 starlette-0.46.1 uvicorn-0.34.0\n"
          ]
        }
      ],
      "source": [
        "pip install fastapi uvicorn httpx\n",
        "# Install FastAPI framework for building APIs\n",
        "# Install Uvicorn ASGI server to run the FastAPI app\n",
        "# Install HTTPX for making asynchronous HTTP requests\n",
        "\n",
        "\n"
      ]
    },
    {
      "cell_type": "code",
      "source": [
        " # Importing necessary modules\n",
        "from fastapi import FastAPI, HTTPException         # FastAPI for building the API, HTTPException for error handling\n",
        "import httpx, time                                 # httpx for async HTTP requests, time for measuring request duration\n",
        "from collections import deque                      # deque used for a fixed-size window of values\n",
        "from typing import List                            # Type hinting\n",
        "\n",
        "# Initialize FastAPI app\n",
        "app = FastAPI()\n",
        "\n",
        "# Set the maximum size of the window\n",
        "WINDOW_SIZE = 10\n",
        "\n",
        "# Create separate deques (fixed-size queues) for each type of number\n",
        "# Each deque will store the most recent unique numbers up to WINDOW_SIZE\n",
        "number_queues = {\n",
        "    'p': deque(maxlen=WINDOW_SIZE),  # Prime numbers\n",
        "    'f': deque(maxlen=WINDOW_SIZE),  # Fibonacci numbers\n",
        "    'e': deque(maxlen=WINDOW_SIZE),  # Even numbers\n",
        "    'r': deque(maxlen=WINDOW_SIZE)   # Random numbers\n",
        "}\n",
        "\n",
        "# Define the external API endpoints for each number type\n",
        "ENDPOINTS = {\n",
        "    'p': \"http://20.244.56.144/evaluation-service/primes\",\n",
        "    'f': \"http://20.244.56.144/evaluation-service/fibo\",\n",
        "    'e': \"http://20.244.56.144/evaluation-service/even\",\n",
        "    'r': \"http://20.244.56.144/evaluation-service/rand\"\n",
        "}\n",
        "\n",
        "# API route to fetch numbers from the test server\n",
        "@app.get(\"/numbers/{number_id}\")\n",
        "async def fetch_numbers(number_id: str):\n",
        "    # Check if number_id is valid (must be one of: p, f, e, r)\n",
        "    if number_id not in number_queues:\n",
        "        raise HTTPException(status_code=400, detail=\"Invalid number ID\")\n",
        "\n",
        "    # Copy the current state of the window before fetching new numbers\n",
        "    prev_window = list(number_queues[number_id])\n",
        "    numbers_fetched = []  # To store numbers received from the API\n",
        "\n",
        "    try:\n",
        "        # Record the start time to measure if the response takes more than 0.5 seconds\n",
        "        start_time = time.time()\n",
        "\n",
        "        # Asynchronous HTTP client with timeout of 0.5 seconds\n",
        "        async with httpx.AsyncClient(timeout=0.5) as client:\n",
        "            res = await client.get(ENDPOINTS[number_id])  # Make GET request to the appropriate API\n",
        "\n",
        "        # If the request failed or took too long, raise an exception\n",
        "        if res.status_code != 200 or (time.time() - start_time) > 0.5:\n",
        "            raise Exception(\"Timeout or Error\")\n",
        "\n",
        "        # Parse JSON response and extract the \"numbers\" list\n",
        "        data = res.json()\n",
        "        numbers_fetched = data.get(\"numbers\", [])\n",
        "\n",
        "    except Exception:\n",
        "        # If there's an error or timeout, return the previous state and no new numbers\n",
        "        return {\n",
        "            \"windowPrevState\": prev_window,     #huh bkihiu hio juh\n",
        "            \"windowCurrState\": prev_window,         #jy yjfh jg ujh jgh\n",
        "            \"numbers\": [],                    #khy hi ofjyg9 epjyu\n",
        "            \"avg\": round(sum(prev_window) / len(prev_window), 2) if prev_window else 0.0 #lehfojey uftye ofkg\n",
        "        }\n",
        "\n",
        "    # Append only unique numbers to the deque (ignore duplicates)\n",
        "    for num in numbers_fetched:\n",
        "    # Append only unique numbers to the deque (ignore duplicates)\n",
        "        if num not in number_queues[number_id]:\n",
        "    # Append only unique numbers to the deque (ignore duplicates)\n",
        "            number_queues[number_id].append(num)\n",
        "    # Append only unique numbers to the deque (ignore duplicates)\n",
        "\n",
        "    # Current window after adding new numbers\n",
        "    curr_window = list(number_queues[number_id])\n",
        "\n",
        "    # Calculate average of current window\n",
        "    average = round(sum(curr_window) / len(curr_window), 2) if curr_window else 0.0\n",
        "\n",
        "    # Return the previous state, current state, new numbers fetched, and the average\n",
        "    return {\n",
        "        \"windowPrevState\": prev_window, # Return the previous state, current state, new numbers fetched, and the average\n",
        "        \"windowCurrState\": curr_window,    # Return the previous state, current state, new numbers fetched, and the average\n",
        "        \"numbers\": numbers_fetched,       # Return the previous state, current state, new numbers fetched, and the average\n",
        "        \"avg\": average\n",
        "    }\n"
      ],
      "metadata": {
        "id": "CmrJYgrYQC2C"
      },
      "execution_count": 4,
      "outputs": []
    }
  ]
}