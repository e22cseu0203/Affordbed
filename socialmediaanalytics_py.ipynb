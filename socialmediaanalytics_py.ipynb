{
  "nbformat": 4,
  "nbformat_minor": 0,
  "metadata": {
    "colab": {
      "provenance": []
    },
    "kernelspec": {
      "name": "python3",
      "display_name": "Python 3"
    },
    "language_info": {
      "name": "python"
    }
  },
  "cells": [
    {
      "cell_type": "code",
      "execution_count": 1,
      "metadata": {
        "colab": {
          "base_uri": "https://localhost:8080/"
        },
        "id": "C5uHEj-7QerE",
        "outputId": "b9fe1b22-9827-4165-8233-8f4885ee3a2f"
      },
      "outputs": [
        {
          "output_type": "stream",
          "name": "stdout",
          "text": [
            "Collecting fastapi\n",
            "  Downloading fastapi-0.115.12-py3-none-any.whl.metadata (27 kB)\n",
            "Collecting uvicorn\n",
            "  Downloading uvicorn-0.34.0-py3-none-any.whl.metadata (6.5 kB)\n",
            "Requirement already satisfied: httpx in /usr/local/lib/python3.11/dist-packages (0.28.1)\n",
            "Collecting starlette<0.47.0,>=0.40.0 (from fastapi)\n",
            "  Downloading starlette-0.46.1-py3-none-any.whl.metadata (6.2 kB)\n",
            "Requirement already satisfied: pydantic!=1.8,!=1.8.1,!=2.0.0,!=2.0.1,!=2.1.0,<3.0.0,>=1.7.4 in /usr/local/lib/python3.11/dist-packages (from fastapi) (2.11.1)\n",
            "Requirement already satisfied: typing-extensions>=4.8.0 in /usr/local/lib/python3.11/dist-packages (from fastapi) (4.13.0)\n",
            "Requirement already satisfied: click>=7.0 in /usr/local/lib/python3.11/dist-packages (from uvicorn) (8.1.8)\n",
            "Requirement already satisfied: h11>=0.8 in /usr/local/lib/python3.11/dist-packages (from uvicorn) (0.14.0)\n",
            "Requirement already satisfied: anyio in /usr/local/lib/python3.11/dist-packages (from httpx) (4.9.0)\n",
            "Requirement already satisfied: certifi in /usr/local/lib/python3.11/dist-packages (from httpx) (2025.1.31)\n",
            "Requirement already satisfied: httpcore==1.* in /usr/local/lib/python3.11/dist-packages (from httpx) (1.0.7)\n",
            "Requirement already satisfied: idna in /usr/local/lib/python3.11/dist-packages (from httpx) (3.10)\n",
            "Requirement already satisfied: annotated-types>=0.6.0 in /usr/local/lib/python3.11/dist-packages (from pydantic!=1.8,!=1.8.1,!=2.0.0,!=2.0.1,!=2.1.0,<3.0.0,>=1.7.4->fastapi) (0.7.0)\n",
            "Requirement already satisfied: pydantic-core==2.33.0 in /usr/local/lib/python3.11/dist-packages (from pydantic!=1.8,!=1.8.1,!=2.0.0,!=2.0.1,!=2.1.0,<3.0.0,>=1.7.4->fastapi) (2.33.0)\n",
            "Requirement already satisfied: typing-inspection>=0.4.0 in /usr/local/lib/python3.11/dist-packages (from pydantic!=1.8,!=1.8.1,!=2.0.0,!=2.0.1,!=2.1.0,<3.0.0,>=1.7.4->fastapi) (0.4.0)\n",
            "Requirement already satisfied: sniffio>=1.1 in /usr/local/lib/python3.11/dist-packages (from anyio->httpx) (1.3.1)\n",
            "Downloading fastapi-0.115.12-py3-none-any.whl (95 kB)\n",
            "\u001b[2K   \u001b[90m━━━━━━━━━━━━━━━━━━━━━━━━━━━━━━━━━━━━━━━━\u001b[0m \u001b[32m95.2/95.2 kB\u001b[0m \u001b[31m3.6 MB/s\u001b[0m eta \u001b[36m0:00:00\u001b[0m\n",
            "\u001b[?25hDownloading uvicorn-0.34.0-py3-none-any.whl (62 kB)\n",
            "\u001b[2K   \u001b[90m━━━━━━━━━━━━━━━━━━━━━━━━━━━━━━━━━━━━━━━━\u001b[0m \u001b[32m62.3/62.3 kB\u001b[0m \u001b[31m3.5 MB/s\u001b[0m eta \u001b[36m0:00:00\u001b[0m\n",
            "\u001b[?25hDownloading starlette-0.46.1-py3-none-any.whl (71 kB)\n",
            "\u001b[2K   \u001b[90m━━━━━━━━━━━━━━━━━━━━━━━━━━━━━━━━━━━━━━━━\u001b[0m \u001b[32m72.0/72.0 kB\u001b[0m \u001b[31m4.0 MB/s\u001b[0m eta \u001b[36m0:00:00\u001b[0m\n",
            "\u001b[?25hInstalling collected packages: uvicorn, starlette, fastapi\n",
            "Successfully installed fastapi-0.115.12 starlette-0.46.1 uvicorn-0.34.0\n"
          ]
        }
      ],
      "source": [
        "pip install fastapi uvicorn httpx\n",
        "# Install FastAPI framework for building APIs\n",
        "# Install Uvicorn ASGI server to run the FastAPI app\n",
        "# Install HTTPX for making asynchronous HTTP requests\n",
        "\n",
        "\n"
      ]
    },
    {
      "cell_type": "code",
      "source": [
        "# Import necessary modules from FastAPI and standard libraries\n",
        "from fastapi import FastAPI, Query\n",
        "import httpx  # For making asynchronous HTTP requests\n",
        "from typing import List, Dict  # For type hinting\n",
        "\n",
        "# Create FastAPI app instance\n",
        "app = FastAPI()\n",
        "\n",
        "# Base URL for all test server API requests\n",
        "BASE_URL = \"http://20.244.56.144/evaluation-service\"\n",
        "\n",
        "# Route to get top 5 users with the highest number of posts\n",
        "@app.get(\"/users\")\n",
        "async def get_top_users():\n",
        "    # Asynchronously fetch users and posts from the test server\n",
        "    async with httpx.AsyncClient() as client:        # Asynchronously fetch users and posts from the test server\n",
        "        users_response = await client.get(f\"{BASE_URL}/users\")    # Asynchronously fetch users and posts from the test server\n",
        "        posts_response = await client.get(f\"{BASE_URL}/posts\")          # Asynchronously fetch users and posts from the test server\n",
        "\n",
        "    # Check if both responses are successful\n",
        "    if users_response.status_code != 200 or posts_response.status_code != 200:\n",
        "        return {\"error\": \"Failed to fetch users or posts.\"}\n",
        "\n",
        "    # Parse the JSON responses into Python dictionaries/lists\n",
        "    users_data = users_response.json()\n",
        "    posts_data = posts_response.json()\n",
        "\n",
        "    # Create a dictionary to count posts per user\n",
        "    post_counts = {}\n",
        "    for post in posts_data:\n",
        "        user_id = post.get(\"userId\")\n",
        "        post_counts[user_id] = post_counts.get(user_id, 0) + 1  # Increment post count\n",
        "\n",
        "    # Sort users by number of posts in descending order and get top 5\n",
        "    top_users = sorted(post_counts.items(), key=lambda x: x[1], reverse=True)[:5]\n",
        "\n",
        "    # Collect detailed info (id, name, post count) for the top users\n",
        "    top_user_details = []\n",
        "    for uid, _ in top_users:\n",
        "        name = users_data.get(str(uid), \"Unknown\")  # Get user name from user ID\n",
        "        top_user_details.append({\"id\": uid, \"name\": name, \"posts\": post_counts[uid]})\n",
        "\n",
        "    # Return list of top 5 users\n",
        "    return {\"topUsers\": top_user_details}\n",
        "\n",
        "\n",
        "# Route to get either 'popular' or 'latest' posts based on query param\n",
        "@app.get(\"/posts\")\n",
        "async def get_posts(type: str = Query(..., regex=\"^(popular|latest)$\")):\n",
        "    # Asynchronously fetch all posts and comments\n",
        "    async with httpx.AsyncClient() as client:        # Asynchronously fetch all posts and comments\n",
        "        posts_response = await client.get(f\"{BASE_URL}/posts\")   # Asynchronously fetch all posts and comments\n",
        "        comments_response = await client.get(f\"{BASE_URL}/comments\")             # Asynchronously fetch all posts and comments\n",
        "\n",
        "    # Check if both responses are successful\n",
        "    if posts_response.status_code != 200 or comments_response.status_code != 200:      # Check if both responses are successful\n",
        "        return {\"error\": \"Failed to fetch posts or comments.\"}  # Check if both responses are successful\n",
        "\n",
        "    # Parse JSON data\n",
        "    posts = posts_response.json()   # Parse JSON data\n",
        "    comments = comments_response.json()          # Parse JSON data\n",
        "\n",
        "    # Handle \"latest\" query type: return 5 most recent posts\n",
        "    if type == \"latest\":\n",
        "        # Sort posts by timestamp descending (latest first)\n",
        "        sorted_posts = sorted(posts, key=lambda x: x.get(\"timestamp\", \"\"), reverse=True)    # Sort posts by timestamp descending (latest first)\n",
        "        return {\"latestPosts\": sorted_posts[:5]}  # Return top 5 latest posts\n",
        "\n",
        "    # For \"popular\" query type: calculate comment count per post\n",
        "    comment_count = {}         # For \"popular\" query type: calculate comment count per post\n",
        "    for c in comments:          # For \"popular\" query type: calculate comment count per post\n",
        "        pid = c.get(\"postId\")        # For \"popular\" query type: calculate comment count per post\n",
        "        comment_count[pid] = comment_count.get(pid, 0) + 1  # Count comments per post ID\n",
        "\n",
        "    # Find the highest comment count among all posts\n",
        "    max_comments = max(comment_count.values(), default=0)\n",
        "\n",
        "    # Get all posts that have the highest comment count\n",
        "    popular_posts = [p for p in posts if comment_count.get(p[\"id\"], 0) == max_comments]\n",
        "\n",
        "    # Return popular posts\n",
        "    return {\"popularPosts\": popular_posts}     # Return popular posts\n"
      ],
      "metadata": {
        "colab": {
          "base_uri": "https://localhost:8080/"
        },
        "id": "dF7UfcPiQf1y",
        "outputId": "52ca1784-2bb0-43cd-a7c5-ab50ee55e487"
      },
      "execution_count": 4,
      "outputs": [
        {
          "output_type": "stream",
          "name": "stderr",
          "text": [
            "<ipython-input-4-be1983d08440>:49: DeprecationWarning: `regex` has been deprecated, please use `pattern` instead\n",
            "  async def get_posts(type: str = Query(..., regex=\"^(popular|latest)$\")):\n"
          ]
        }
      ]
    }
  ]
}